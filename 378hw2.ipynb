{
  "cells": [
    {
      "cell_type": "markdown",
      "metadata": {
        "id": "view-in-github",
        "colab_type": "text"
      },
      "source": [
        "<a href=\"https://colab.research.google.com/github/RedRex99/CIS351/blob/Master/378hw2.ipynb\" target=\"_parent\"><img src=\"https://colab.research.google.com/assets/colab-badge.svg\" alt=\"Open In Colab\"/></a>"
      ]
    },
    {
      "cell_type": "markdown",
      "metadata": {
        "id": "1aX3fNdxFnlH"
      },
      "source": [
        "\n",
        "# Homework 2 - SVM Classification\n",
        "\n"
      ]
    },
    {
      "cell_type": "markdown",
      "source": [
        "_____________________________________________________"
      ],
      "metadata": {
        "id": "MyFJkoT-f4oG"
      }
    },
    {
      "cell_type": "markdown",
      "source": [
        "**Homework 2.1 - EMNIST LETTERS CLASSIFICATION**"
      ],
      "metadata": {
        "id": "gnYulSKwfe5I"
      }
    },
    {
      "cell_type": "markdown",
      "source": [
        "_____________________________________________________"
      ],
      "metadata": {
        "id": "o438co6hpTSp"
      }
    },
    {
      "cell_type": "markdown",
      "source": [
        "2.1.1:\n",
        "\n",
        "\n",
        "Load in the dataset (both training and test sets) so that each sample (e.g. image) is one row. Each row should be of length 784 (each image is  28×28 , so if you view each pixel as a feature you would have  28×28  features for each image.\n",
        "\n",
        "\n",
        "\n"
      ],
      "metadata": {
        "id": "bxd80ljZdRcW"
      }
    },
    {
      "cell_type": "markdown",
      "source": [
        "_____________________________________________________"
      ],
      "metadata": {
        "id": "5dYl6tl0pRmi"
      }
    },
    {
      "cell_type": "code",
      "source": [
        "!pip install emnist\n",
        "!pip uninstall scikit-learn -y\n",
        "!pip install -U scikit-learn\n",
        "!pip install pyflann-py3"
      ],
      "metadata": {
        "colab": {
          "base_uri": "https://localhost:8080/"
        },
        "id": "oDSS5Fv8dQRp",
        "outputId": "fa13372e-551e-459b-f9f9-e499c4ed6505"
      },
      "execution_count": null,
      "outputs": [
        {
          "output_type": "stream",
          "name": "stdout",
          "text": [
            "Looking in indexes: https://pypi.org/simple, https://us-python.pkg.dev/colab-wheels/public/simple/\n",
            "Collecting emnist\n",
            "  Downloading emnist-0.0-py3-none-any.whl (7.3 kB)\n",
            "Requirement already satisfied: tqdm in /usr/local/lib/python3.8/dist-packages (from emnist) (4.64.1)\n",
            "Requirement already satisfied: requests in /usr/local/lib/python3.8/dist-packages (from emnist) (2.25.1)\n",
            "Requirement already satisfied: numpy in /usr/local/lib/python3.8/dist-packages (from emnist) (1.21.6)\n",
            "Requirement already satisfied: urllib3<1.27,>=1.21.1 in /usr/local/lib/python3.8/dist-packages (from requests->emnist) (1.24.3)\n",
            "Requirement already satisfied: chardet<5,>=3.0.2 in /usr/local/lib/python3.8/dist-packages (from requests->emnist) (4.0.0)\n",
            "Requirement already satisfied: certifi>=2017.4.17 in /usr/local/lib/python3.8/dist-packages (from requests->emnist) (2022.12.7)\n",
            "Requirement already satisfied: idna<3,>=2.5 in /usr/local/lib/python3.8/dist-packages (from requests->emnist) (2.10)\n",
            "Installing collected packages: emnist\n",
            "Successfully installed emnist-0.0\n",
            "Found existing installation: scikit-learn 1.0.2\n",
            "Uninstalling scikit-learn-1.0.2:\n",
            "  Successfully uninstalled scikit-learn-1.0.2\n",
            "Looking in indexes: https://pypi.org/simple, https://us-python.pkg.dev/colab-wheels/public/simple/\n",
            "Collecting scikit-learn\n",
            "  Downloading scikit_learn-1.2.1-cp38-cp38-manylinux_2_17_x86_64.manylinux2014_x86_64.whl (9.8 MB)\n",
            "\u001b[2K     \u001b[90m━━━━━━━━━━━━━━━━━━━━━━━━━━━━━━━━━━━━━━━━\u001b[0m \u001b[32m9.8/9.8 MB\u001b[0m \u001b[31m29.2 MB/s\u001b[0m eta \u001b[36m0:00:00\u001b[0m\n",
            "\u001b[?25hRequirement already satisfied: numpy>=1.17.3 in /usr/local/lib/python3.8/dist-packages (from scikit-learn) (1.21.6)\n",
            "Requirement already satisfied: threadpoolctl>=2.0.0 in /usr/local/lib/python3.8/dist-packages (from scikit-learn) (3.1.0)\n",
            "Requirement already satisfied: scipy>=1.3.2 in /usr/local/lib/python3.8/dist-packages (from scikit-learn) (1.7.3)\n",
            "Requirement already satisfied: joblib>=1.1.1 in /usr/local/lib/python3.8/dist-packages (from scikit-learn) (1.2.0)\n",
            "Installing collected packages: scikit-learn\n",
            "Successfully installed scikit-learn-1.2.1\n",
            "Looking in indexes: https://pypi.org/simple, https://us-python.pkg.dev/colab-wheels/public/simple/\n",
            "Collecting pyflann-py3\n",
            "  Downloading pyflann-py3-0.1.0.tar.gz (7.1 MB)\n",
            "\u001b[2K     \u001b[90m━━━━━━━━━━━━━━━━━━━━━━━━━━━━━━━━━━━━━━━━\u001b[0m \u001b[32m7.1/7.1 MB\u001b[0m \u001b[31m86.3 MB/s\u001b[0m eta \u001b[36m0:00:00\u001b[0m\n",
            "\u001b[?25h  Preparing metadata (setup.py) ... \u001b[?25l\u001b[?25hdone\n",
            "Building wheels for collected packages: pyflann-py3\n",
            "  Building wheel for pyflann-py3 (setup.py) ... \u001b[?25l\u001b[?25hdone\n",
            "  Created wheel for pyflann-py3: filename=pyflann_py3-0.1.0-py3-none-any.whl size=7186986 sha256=c075455211f59320f3176ec696dbe907e304bcda1feeec12d5a9fd19d5ce19d2\n",
            "  Stored in directory: /root/.cache/pip/wheels/e2/b0/20/359f221881eda4fdb74c10c768abc0a5b1b03e34e15b152138\n",
            "Successfully built pyflann-py3\n",
            "Installing collected packages: pyflann-py3\n",
            "Successfully installed pyflann-py3-0.1.0\n"
          ]
        }
      ]
    },
    {
      "cell_type": "code",
      "source": [
        "import emnist; emnist.ensure_cached_data()"
      ],
      "metadata": {
        "colab": {
          "base_uri": "https://localhost:8080/",
          "height": 53
        },
        "id": "IFHVrOchdo5_",
        "outputId": "58df8e5b-31d1-4159-ef8c-ae887dc7eb6e"
      },
      "execution_count": null,
      "outputs": [
        {
          "output_type": "stream",
          "name": "stderr",
          "text": [
            "Downloading emnist.zip: 536MB [00:22, 25.0MB/s]\n"
          ]
        },
        {
          "output_type": "execute_result",
          "data": {
            "text/plain": [
              "'/root/.cache/emnist/emnist.zip'"
            ],
            "application/vnd.google.colaboratory.intrinsic+json": {
              "type": "string"
            }
          },
          "metadata": {},
          "execution_count": 2
        }
      ]
    },
    {
      "cell_type": "code",
      "source": [
        "from emnist import list_datasets"
      ],
      "metadata": {
        "id": "nLP6ndljdroP"
      },
      "execution_count": null,
      "outputs": []
    },
    {
      "cell_type": "code",
      "source": [
        "from emnist import extract_training_samples\n",
        "images_train, labels_train = extract_training_samples('letters')"
      ],
      "metadata": {
        "id": "2rhfUCxodu81"
      },
      "execution_count": null,
      "outputs": []
    },
    {
      "cell_type": "code",
      "source": [
        "X_train = images_train.reshape(124800, 784)\n",
        "\n",
        "from emnist import extract_test_samples\n",
        "images_test, labels_test = extract_test_samples('letters')"
      ],
      "metadata": {
        "id": "vpikvpU6d0HE"
      },
      "execution_count": null,
      "outputs": []
    },
    {
      "cell_type": "markdown",
      "source": [
        "________________________________________________________________________________"
      ],
      "metadata": {
        "id": "eTZSiQL8UQ3v"
      }
    },
    {
      "cell_type": "markdown",
      "source": [
        "\n",
        "\n",
        ">2.1.2\n",
        "\n",
        "Threshold the data so that any pixel under some cutoff (you can look at the data and determine what seems to be a reasonable cutoff) is a 0 and all values greater than or equal to the cutoff is a 1. This isn't strictly necessary, but with an SVM it does give better results (you can try it yourself both with and without thresholding to verify)\n",
        "\n"
      ],
      "metadata": {
        "id": "UyPKBcT1e8eU"
      }
    },
    {
      "cell_type": "markdown",
      "source": [
        "________________________________________________________________________________"
      ],
      "metadata": {
        "id": "mvM9Co7IUcHL"
      }
    },
    {
      "cell_type": "markdown",
      "source": [
        "Import numpy file"
      ],
      "metadata": {
        "id": "ljWJBgcgZ7vU"
      }
    },
    {
      "cell_type": "code",
      "source": [
        "import numpy as np"
      ],
      "metadata": {
        "id": "-zl3l8_ufC0S"
      },
      "execution_count": null,
      "outputs": []
    },
    {
      "cell_type": "markdown",
      "source": [
        "Decide reasonable cutoff"
      ],
      "metadata": {
        "id": "r_gSEQKmZ-gl"
      }
    },
    {
      "cell_type": "code",
      "source": [
        "cutoff = 100"
      ],
      "metadata": {
        "id": "CNh0XdT2XwUT"
      },
      "execution_count": null,
      "outputs": []
    },
    {
      "cell_type": "markdown",
      "source": [
        "Create the thresh variables based upon cutoff"
      ],
      "metadata": {
        "id": "FfY_w0CLaDIg"
      }
    },
    {
      "cell_type": "code",
      "source": [
        "train_thresh = np.where(images_train < cutoff, 0, 1)\n",
        "test_thresh = np.where(images_test < cutoff, 0, 1)"
      ],
      "metadata": {
        "id": "UwnlwOUtX1Ol"
      },
      "execution_count": null,
      "outputs": []
    },
    {
      "cell_type": "markdown",
      "source": [
        "Reshape the data to fit the new threshed data"
      ],
      "metadata": {
        "id": "33pJ_PLfaRTb"
      }
    },
    {
      "cell_type": "code",
      "source": [
        "shaped_train = train_thresh.reshape((train_thresh.shape[0], -1))\n",
        "shaped_test = test_thresh.reshape((test_thresh.shape[0], -1))"
      ],
      "metadata": {
        "id": "leyg_q9bYIbD"
      },
      "execution_count": null,
      "outputs": []
    },
    {
      "cell_type": "markdown",
      "source": [
        "________________________________________________________________________________"
      ],
      "metadata": {
        "id": "L5wgoajhZg6I"
      }
    },
    {
      "cell_type": "markdown",
      "source": [
        "2.1.3\n",
        "\n",
        "Using sklearn's SGDClassifier, build and evaluate a linear SVM model trained with Stochastic Gradient Descent with the  L2 -penalty and hinge loss. Use partial_fit and compute the accuracy on a held-out validation set after each epoch. Plot these validation set accuracies. How well does this do in comparison to the other methods from the previous assignment (or whatever ones you finished in that assignment)?"
      ],
      "metadata": {
        "id": "SOAh3kXaZjOi"
      }
    },
    {
      "cell_type": "markdown",
      "source": [
        "________________________________________________________________________________"
      ],
      "metadata": {
        "id": "1_M3SYo9Zitr"
      }
    },
    {
      "cell_type": "code",
      "source": [
        "from sklearn.linear_model import SGDClassifier\n",
        "from sklearn.metrics import accuracy_score\n",
        "import matplotlib.pyplot as plt"
      ],
      "metadata": {
        "id": "UEPj_XaIb1JQ"
      },
      "execution_count": null,
      "outputs": []
    },
    {
      "cell_type": "code",
      "source": [
        "# Split the training data into a training set and a validation set\n",
        "val_size = 0.1\n",
        "val_index = int(len(shaped_train) * (1 - val_size))\n",
        "X_train_val, y_train_val = shaped_train[:val_index], labels_train[:val_index]\n",
        "X_val, y_val = shaped_train[val_index:], labels_train[val_index:]"
      ],
      "metadata": {
        "id": "wrdvry-1cjVq"
      },
      "execution_count": null,
      "outputs": []
    },
    {
      "cell_type": "code",
      "source": [
        "clf = SGDClassifier(loss='hinge', penalty='l2', alpha = 0.0001, max_iter=1000, tol=1e-3, random_state=42)"
      ],
      "metadata": {
        "id": "6eqS7roocmOL"
      },
      "execution_count": null,
      "outputs": []
    },
    {
      "cell_type": "code",
      "source": [
        "epochs = 10\n",
        "accuracy_history = []\n",
        "for epoch in range(epochs):\n",
        "    clf.partial_fit(X_train_val, y_train_val, classes=np.unique(labels_train))\n",
        "    y_pred_val = clf.predict(X_val)\n",
        "    accuracy = accuracy_score(y_val, y_pred_val)\n",
        "    accuracy_history.append(accuracy)"
      ],
      "metadata": {
        "id": "FVGnqZq4dEg1"
      },
      "execution_count": null,
      "outputs": []
    },
    {
      "cell_type": "code",
      "source": [
        "# Plot the validation set accuracies\n",
        "plt.plot(range(1, epochs+1), accuracy_history)\n",
        "plt.xlabel('Epoch')\n",
        "plt.ylabel('Accuracy')\n",
        "plt.title('Validation Set Accuracies')\n",
        "plt.show()"
      ],
      "metadata": {
        "id": "m3ZrcpgkdprS",
        "colab": {
          "base_uri": "https://localhost:8080/",
          "height": 295
        },
        "outputId": "901e0b04-0d62-4538-b0a9-24316b7f2de5"
      },
      "execution_count": null,
      "outputs": [
        {
          "output_type": "display_data",
          "data": {
            "text/plain": [
              "<Figure size 432x288 with 1 Axes>"
            ],
            "image/png": "[encoded data removed]"
          },
          "metadata": {
            "needs_background": "light"
          }
        }
      ]
    },
    {
      "cell_type": "markdown",
      "source": [
        "_____________________________________________________"
      ],
      "metadata": {
        "id": "q70cJpKdLV0d"
      }
    },
    {
      "cell_type": "markdown",
      "source": [
        "**Problem 2.2 - Forest Fire Classification**"
      ],
      "metadata": {
        "id": "uWDYoGLcLa3G"
      }
    },
    {
      "cell_type": "markdown",
      "source": [
        "_____________________________________________________"
      ],
      "metadata": {
        "id": "vitS3l8LLaTo"
      }
    },
    {
      "cell_type": "markdown",
      "source": [
        "**Problem 2.2**\n",
        "\n",
        "UCI's Machine Learning Repository cotains a dataset of measurements in Algeria for classifying whether or not a given sample is an instance of a forest fire . I've done some slight preprocessing of the dataset to make it a version that is a little easier to work with (primarily fixing a formatting bug in the csv and combining the two regions into one simpler file).\n",
        "\n",
        "\n",
        "\n",
        "> **2.2.1**\n",
        "\n",
        "Read in the data and split your data into training, testing sets. The data is still a little messy (there's some extra spaces at the starts and ends of columns), so you will want to make sure that you clean that up prior to splitting the data. Before splitting, it's always good to understand your data and whether the classes are balanced. When classes are unbalanced, it's often best to use stratified sampling (there is an option for this in train_test_split) which makes sure that the relative class frequencies are preserved in the split datasets.\n",
        "\n"
      ],
      "metadata": {
        "id": "V1SGavFme7t4"
      }
    },
    {
      "cell_type": "code",
      "source": [
        "import pandas as pd\n",
        "from google.colab import files\n",
        "files.upload()"
      ],
      "metadata": {
        "id": "9E_3RG8lfd2B",
        "colab": {
          "base_uri": "https://localhost:8080/",
          "height": 1000
        },
        "outputId": "c8c339be-f0bc-4b7d-ef7b-577a6649ae30"
      },
      "execution_count": null,
      "outputs": [
        {
          "output_type": "display_data",
          "data": {
            "text/plain": [
              "<IPython.core.display.HTML object>"
            ],
            "text/html": [
              "\n",
              "     <input type=\"file\" id=\"files-118071f1-c96d-45ef-a3ea-e786fab178a0\" name=\"files[]\" multiple disabled\n",
              "        style=\"border:none\" />\n",
              "     <output id=\"result-118071f1-c96d-45ef-a3ea-e786fab178a0\">\n",
              "      Upload widget is only available when the cell has been executed in the\n",
              "      current browser session. Please rerun this cell to enable.\n",
              "      </output>\n",
              "      <script>// Copyright 2017 Google LLC\n",
              "//\n",
              "// Licensed under the Apache License, Version 2.0 (the \"License\");\n",
              "// you may not use this file except in compliance with the License.\n",
              "// You may obtain a copy of the License at\n",
              "//\n",
              "//      http://www.apache.org/licenses/LICENSE-2.0\n",
              "//\n",
              "// Unless required by applicable law or agreed to in writing, software\n",
              "// distributed under the License is distributed on an \"AS IS\" BASIS,\n",
              "// WITHOUT WARRANTIES OR CONDITIONS OF ANY KIND, either express or implied.\n",
              "// See the License for the specific language governing permissions and\n",
              "// limitations under the License.\n",
              "\n",
              "/**\n",
              " * @fileoverview Helpers for google.colab Python module.\n",
              " */\n",
              "(function(scope) {\n",
              "function span(text, styleAttributes = {}) {\n",
              "  const element = document.createElement('span');\n",
              "  element.textContent = text;\n",
              "  for (const key of Object.keys(styleAttributes)) {\n",
              "    element.style[key] = styleAttributes[key];\n",
              "  }\n",
              "  return element;\n",
              "}\n",
              "\n",
              "// Max number of bytes which will be uploaded at a time.\n",
              "const MAX_PAYLOAD_SIZE = 100 * 1024;\n",
              "\n",
              "function _uploadFiles(inputId, outputId) {\n",
              "  const steps = uploadFilesStep(inputId, outputId);\n",
              "  const outputElement = document.getElementById(outputId);\n",
              "  // Cache steps on the outputElement to make it available for the next call\n",
              "  // to uploadFilesContinue from Python.\n",
              "  outputElement.steps = steps;\n",
              "\n",
              "  return _uploadFilesContinue(outputId);\n",
              "}\n",
              "\n",
              "// This is roughly an async generator (not supported in the browser yet),\n",
              "// where there are multiple asynchronous steps and the Python side is going\n",
              "// to poll for completion of each step.\n",
              "// This uses a Promise to block the python side on completion of each step,\n",
              "// then passes the result of the previous step as the input to the next step.\n",
              "function _uploadFilesContinue(outputId) {\n",
              "  const outputElement = document.getElementById(outputId);\n",
              "  const steps = outputElement.steps;\n",
              "\n",
              "  const next = steps.next(outputElement.lastPromiseValue);\n",
              "  return Promise.resolve(next.value.promise).then((value) => {\n",
              "    // Cache the last promise value to make it available to the next\n",
              "    // step of the generator.\n",
              "    outputElement.lastPromiseValue = value;\n",
              "    return next.value.response;\n",
              "  });\n",
              "}\n",
              "\n",
              "/**\n",
              " * Generator function which is called between each async step of the upload\n",
              " * process.\n",
              " * @param {string} inputId Element ID of the input file picker element.\n",
              " * @param {string} outputId Element ID of the output display.\n",
              " * @return {!Iterable<!Object>} Iterable of next steps.\n",
              " */\n",
              "function* uploadFilesStep(inputId, outputId) {\n",
              "  const inputElement = document.getElementById(inputId);\n",
              "  inputElement.disabled = false;\n",
              "\n",
              "  const outputElement = document.getElementById(outputId);\n",
              "  outputElement.innerHTML = '';\n",
              "\n",
              "  const pickedPromise = new Promise((resolve) => {\n",
              "    inputElement.addEventListener('change', (e) => {\n",
              "      resolve(e.target.files);\n",
              "    });\n",
              "  });\n",
              "\n",
              "  const cancel = document.createElement('button');\n",
              "  inputElement.parentElement.appendChild(cancel);\n",
              "  cancel.textContent = 'Cancel upload';\n",
              "  const cancelPromise = new Promise((resolve) => {\n",
              "    cancel.onclick = () => {\n",
              "      resolve(null);\n",
              "    };\n",
              "  });\n",
              "\n",
              "  // Wait for the user to pick the files.\n",
              "  const files = yield {\n",
              "    promise: Promise.race([pickedPromise, cancelPromise]),\n",
              "    response: {\n",
              "      action: 'starting',\n",
              "    }\n",
              "  };\n",
              "\n",
              "  cancel.remove();\n",
              "\n",
              "  // Disable the input element since further picks are not allowed.\n",
              "  inputElement.disabled = true;\n",
              "\n",
              "  if (!files) {\n",
              "    return {\n",
              "      response: {\n",
              "        action: 'complete',\n",
              "      }\n",
              "    };\n",
              "  }\n",
              "\n",
              "  for (const file of files) {\n",
              "    const li = document.createElement('li');\n",
              "    li.append(span(file.name, {fontWeight: 'bold'}));\n",
              "    li.append(span(\n",
              "        `(${file.type || 'n/a'}) - ${file.size} bytes, ` +\n",
              "        `last modified: ${\n",
              "            file.lastModifiedDate ? file.lastModifiedDate.toLocaleDateString() :\n",
              "                                    'n/a'} - `));\n",
              "    const percent = span('0% done');\n",
              "    li.appendChild(percent);\n",
              "\n",
              "    outputElement.appendChild(li);\n",
              "\n",
              "    const fileDataPromise = new Promise((resolve) => {\n",
              "      const reader = new FileReader();\n",
              "      reader.onload = (e) => {\n",
              "        resolve(e.target.result);\n",
              "      };\n",
              "      reader.readAsArrayBuffer(file);\n",
              "    });\n",
              "    // Wait for the data to be ready.\n",
              "    let fileData = yield {\n",
              "      promise: fileDataPromise,\n",
              "      response: {\n",
              "        action: 'continue',\n",
              "      }\n",
              "    };\n",
              "\n",
              "    // Use a chunked sending to avoid message size limits. See b/62115660.\n",
              "    let position = 0;\n",
              "    do {\n",
              "      const length = Math.min(fileData.byteLength - position, MAX_PAYLOAD_SIZE);\n",
              "      const chunk = new Uint8Array(fileData, position, length);\n",
              "      position += length;\n",
              "\n",
              "      const base64 = btoa(String.fromCharCode.apply(null, chunk));\n",
              "      yield {\n",
              "        response: {\n",
              "          action: 'append',\n",
              "          file: file.name,\n",
              "          data: base64,\n",
              "        },\n",
              "      };\n",
              "\n",
              "      let percentDone = fileData.byteLength === 0 ?\n",
              "          100 :\n",
              "          Math.round((position / fileData.byteLength) * 100);\n",
              "      percent.textContent = `${percentDone}% done`;\n",
              "\n",
              "    } while (position < fileData.byteLength);\n",
              "  }\n",
              "\n",
              "  // All done.\n",
              "  yield {\n",
              "    response: {\n",
              "      action: 'complete',\n",
              "    }\n",
              "  };\n",
              "}\n",
              "\n",
              "scope.google = scope.google || {};\n",
              "scope.google.colab = scope.google.colab || {};\n",
              "scope.google.colab._files = {\n",
              "  _uploadFiles,\n",
              "  _uploadFilesContinue,\n",
              "};\n",
              "})(self);\n",
              "</script> "
            ]
          },
          "metadata": {}
        },
        {
          "output_type": "stream",
          "name": "stdout",
          "text": [
            "Saving forest-fires-classification.csv to forest-fires-classification.csv\n"
          ]
        },
        {
          "output_type": "execute_result",
          "data": {
            "text/plain": [
              "{'forest-fires-classification.csv': b'day,month,year,Temperature, RH, Ws,Rain ,FFMC,DMC,DC,ISI,BUI,FWI,Classes  \\r\\n1,6,2012,29,57,18,0,65.7,3.4,7.6,1.3,3.4,0.5,not fire   \\r\\n2,6,2012,29,61,13,1.3,64.4,4.1,7.6,1,3.9,0.4,not fire   \\r\\n3,6,2012,26,82,22,13.1,47.1,2.5,7.1,0.3,2.7,0.1,not fire   \\r\\n4,6,2012,25,89,13,2.5,28.6,1.3,6.9,0,1.7,0,not fire   \\r\\n5,6,2012,27,77,16,0,64.8,3,14.2,1.2,3.9,0.5,not fire   \\r\\n6,6,2012,31,67,14,0,82.6,5.8,22.2,3.1,7,2.5,fire   \\r\\n7,6,2012,33,54,13,0,88.2,9.9,30.5,6.4,10.9,7.2,fire   \\r\\n8,6,2012,30,73,15,0,86.6,12.1,38.3,5.6,13.5,7.1,fire   \\r\\n9,6,2012,25,88,13,0.2,52.9,7.9,38.8,0.4,10.5,0.3,not fire   \\r\\n10,6,2012,28,79,12,0,73.2,9.5,46.3,1.3,12.6,0.9,not fire   \\r\\n11,6,2012,31,65,14,0,84.5,12.5,54.3,4,15.8,5.6,fire   \\r\\n12,6,2012,26,81,19,0,84,13.8,61.4,4.8,17.7,7.1,fire   \\r\\n13,6,2012,27,84,21,1.2,50,6.7,17,0.5,6.7,0.2,not fire   \\r\\n14,6,2012,30,78,20,0.5,59,4.6,7.8,1,4.4,0.4,not fire   \\r\\n15,6,2012,28,80,17,3.1,49.4,3,7.4,0.4,3,0.1,not fire   \\r\\n16,6,2012,29,89,13,0.7,36.1,1.7,7.6,0,2.2,0,not fire   \\r\\n17,6,2012,30,89,16,0.6,37.3,1.1,7.8,0,1.6,0,not fire   \\r\\n18,6,2012,31,78,14,0.3,56.9,1.9,8,0.7,2.4,0.2,not fire   \\r\\n19,6,2012,31,55,16,0.1,79.9,4.5,16,2.5,5.3,1.4,not fire   \\r\\n20,6,2012,30,80,16,0.4,59.8,3.4,27.1,0.9,5.1,0.4,not fire   \\r\\n21,6,2012,30,78,14,0,81,6.3,31.6,2.6,8.4,2.2,fire   \\r\\n22,6,2012,31,67,17,0.1,79.1,7,39.5,2.4,9.7,2.3,not fire   \\r\\n23,6,2012,32,62,18,0.1,81.4,8.2,47.7,3.3,11.5,3.8,fire   \\r\\n24,6,2012,32,66,17,0,85.9,11.2,55.8,5.6,14.9,7.5,fire   \\r\\n25,6,2012,31,64,15,0,86.7,14.2,63.8,5.7,18.3,8.4,fire   \\r\\n26,6,2012,31,64,18,0,86.8,17.8,71.8,6.7,21.6,10.6,fire   \\r\\n27,6,2012,34,53,18,0,89,21.6,80.3,9.2,25.8,15,fire   \\r\\n28,6,2012,32,55,14,0,89.1,25.5,88.5,7.6,29.7,13.9,fire   \\r\\n29,6,2012,32,47,13,0.3,79.9,18.4,84.4,2.2,23.8,3.9,not fire   \\r\\n30,6,2012,33,50,14,0,88.7,22.9,92.8,7.2,28.3,12.9,fire   \\r\\n1,7,2012,29,68,19,1,59.9,2.5,8.6,1.1,2.9,0.4,not fire   \\r\\n2,7,2012,27,75,19,1.2,55.7,2.4,8.3,0.8,2.8,0.3,not fire   \\r\\n3,7,2012,32,76,20,0.7,63.1,2.6,9.2,1.3,3,0.5,not fire   \\r\\n4,7,2012,33,78,17,0,80.1,4.6,18.5,2.7,5.7,1.7,not fire   \\r\\n5,7,2012,33,66,14,0,85.9,7.6,27.9,4.8,9.1,4.9,fire   \\r\\n6,7,2012,32,63,14,0,87,10.9,37,5.6,12.5,6.8,fire   \\r\\n7,7,2012,35,64,18,0.2,80,9.7,40.4,2.8,12.1,3.2,not fire   \\r\\n8,7,2012,33,68,19,0,85.6,12.5,49.8,6,15.4,8,fire   \\r\\n9,7,2012,32,68,14,1.4,66.6,7.7,9.2,1.1,7.4,0.6,not fire   \\r\\n10,7,2012,33,69,13,0.7,66.6,6,9.3,1.1,5.8,0.5,not fire   \\r\\n11,7,2012,33,76,14,0,81.1,8.1,18.7,2.6,8.1,2.2,not fire   \\r\\n12,7,2012,31,75,13,0.1,75.1,7.9,27.7,1.5,9.2,0.9,not fire   \\r\\n13,7,2012,34,81,15,0,81.8,9.7,37.2,3,11.7,3.4,not fire   \\r\\n14,7,2012,34,61,13,0.6,73.9,7.8,22.9,1.4,8.4,0.8,not fire   \\r\\n15,7,2012,30,80,19,0.4,60.7,5.2,17,1.1,5.9,0.5,not fire   \\r\\n16,7,2012,28,76,21,0,72.6,7,25.5,0.7,8.3,0.4,not fire   \\r\\n17,7,2012,29,70,14,0,82.8,9.4,34.1,3.2,11.1,3.6,fire   \\r\\n18,7,2012,31,68,14,0,85.4,12.1,43.1,4.6,14.2,6,fire   \\r\\n19,7,2012,35,59,17,0,88.1,12,52.8,7.7,18.2,10.9,fire   \\r\\n20,7,2012,33,65,15,0.1,81.4,12.3,62.1,2.8,16.5,4,fire   \\r\\n21,7,2012,33,70,17,0,85.4,18.5,71.5,5.2,22.4,8.8,fire   \\r\\n22,7,2012,28,79,18,0.1,73.4,16.4,79.9,1.8,21.7,2.8,not fire   \\r\\n23,7,2012,27,66,22,0.4,68.2,10.5,71.3,1.8,15.4,2.1,not fire   \\r\\n24,7,2012,28,78,16,0.1,70,9.6,79.7,1.4,14.7,1.3,not fire   \\r\\n25,7,2012,31,65,18,0,84.3,12.5,88.7,4.8,18.5,7.3,fire   \\r\\n26,7,2012,36,53,19,0,89.2,17.1,98.6,10,23.9,15.3,fire   \\r\\n27,7,2012,36,48,13,0,90.3,22.2,108.5,8.7,29.4,15.3,fire   \\r\\n28,7,2012,33,76,15,0,86.5,24.4,117.8,5.6,32.1,11.3,fire   \\r\\n29,7,2012,32,73,15,0,86.6,26.7,127,5.6,35,11.9,fire   \\r\\n30,7,2012,31,79,15,0,85.4,28.5,136,4.7,37.4,10.7,fire   \\r\\n31,7,2012,35,64,17,0,87.2,31.9,145.7,6.8,41.2,15.7,fire   \\r\\n1,8,2012,36,45,14,0,78.8,4.8,10.2,2,4.7,0.9,not fire   \\r\\n2,8,2012,35,55,12,0.4,78,5.8,10,1.7,5.5,0.8,not fire   \\r\\n3,8,2012,35,63,14,0.3,76.6,5.7,10,1.7,5.5,0.8,not fire   \\r\\n4,8,2012,34,69,13,0,85,8.2,19.8,4,8.2,3.9,fire   \\r\\n5,8,2012,34,65,13,0,86.8,11.1,29.7,5.2,11.5,6.1,fire   \\r\\n6,8,2012,32,75,14,0,86.4,13,39.1,5.2,14.2,6.8,fire   \\r\\n7,8,2012,32,69,16,0,86.5,15.5,48.6,5.5,17.2,8,fire   \\r\\n8,8,2012,32,60,18,0.3,77.1,11.3,47,2.2,14.1,2.6,not fire   \\r\\n9,8,2012,35,59,17,0,87.4,14.8,57,6.9,17.9,9.9,fire   \\r\\n10,8,2012,35,55,14,0,88.9,18.6,67,7.4,21.9,11.6,fire   \\r\\n11,8,2012,35,63,13,0,88.9,21.7,77,7.1,25.5,12.1,fire   \\r\\n12,8,2012,35,51,13,0.3,81.3,15.6,75.1,2.5,20.7,4.2,not fire   \\r\\n13,8,2012,35,63,15,0,87,19,85.1,5.9,24.4,10.2,fire   \\r\\n14,8,2012,33,66,14,0,87,21.7,94.7,5.7,27.2,10.6,fire   \\r\\n15,8,2012,36,55,13,0.3,82.4,15.6,92.5,3.7,22,6.3,fire   \\r\\n16,8,2012,36,61,18,0.3,80.2,11.7,90.4,2.8,17.6,4.2,fire   \\r\\n17,8,2012,37,52,18,0,89.3,16,100.7,9.7,22.9,14.6,fire   \\r\\n18,8,2012,36,54,18,0,89.4,20,110.9,9.7,27.5,16.1,fire   \\r\\n19,8,2012,35,62,19,0,89.4,23.2,120.9,9.7,31.3,17.2,fire   \\r\\n20,8,2012,35,68,19,0,88.3,25.9,130.6,8.8,34.7,16.8,fire   \\r\\n21,8,2012,36,58,19,0,88.6,29.6,141.1,9.2,38.8,18.4,fire   \\r\\n22,8,2012,36,55,18,0,89.1,33.5,151.3,9.9,43.1,20.4,fire   \\r\\n23,8,2012,36,53,16,0,89.5,37.6,161.5,10.4,47.5,22.3,fire\\r\\n24,8,2012,34,64,14,0,88.9,40.5,171.3,9,50.9,20.9,fire   \\r\\n25,8,2012,35,60,15,0,88.9,43.9,181.3,8.2,54.7,20.3,fire\\r\\n26,8,2012,31,78,18,0,85.8,45.6,190.6,4.7,57.1,13.7,fire \\r\\n27,8,2012,33,82,21,0,84.9,47,200.2,4.4,59.3,13.2,fire\\r\\n28,8,2012,34,64,16,0,89.4,50.2,210.4,7.3,62.9,19.9,fire \\r\\n29,8,2012,35,48,18,0,90.1,54.2,220.4,12.5,67.4,30.2,fire   \\r\\n30,8,2012,35,70,17,0.8,72.7,25.2,180.4,1.7,37.4,4.2,not fire   \\r\\n31,8,2012,28,80,21,16.8,52.5,8.7,8.7,0.6,8.3,0.3,not fire\\r\\n1,9,2012,25,76,17,7.2,46,1.3,7.5,0.2,1.8,0.1,not fire \\r\\n2,9,2012,22,86,15,10.1,30.5,0.7,7,0,1.1,0,not fire\\r\\n3,9,2012,25,78,15,3.8,42.6,1.2,7.5,0.1,1.7,0,not fire   \\r\\n4,9,2012,29,73,17,0.1,68.4,1.9,15.7,1.4,2.9,0.5,not fire   \\r\\n5,9,2012,29,75,16,0,80.8,3.4,24,2.8,5.1,1.7,fire   \\r\\n6,9,2012,29,74,19,0.1,75.8,3.6,32.2,2.1,5.6,0.9,not fire   \\r\\n7,9,2012,31,71,17,0.3,69.6,3.2,30.1,1.5,5.1,0.6,not fire   \\r\\n8,9,2012,30,73,17,0.9,62,2.6,8.4,1.1,3,0.4,not fire   \\r\\n9,9,2012,30,77,15,1,56.1,2.1,8.4,0.7,2.6,0.2,not fire   \\r\\n10,9,2012,33,73,12,1.8,59.9,2.2,8.9,0.7,2.7,0.3,not fire   \\r\\n11,9,2012,30,77,21,1.8,58.5,1.9,8.4,1.1,2.4,0.3,not fire   \\r\\n12,9,2012,29,88,13,0,71,2.6,16.6,1.2,3.7,0.5,not fire   \\r\\n13,9,2012,25,86,21,4.6,40.9,1.3,7.5,0.1,1.8,0,not fire   \\r\\n14,9,2012,22,76,26,8.3,47.4,1.1,7,0.4,1.6,0.1,not fire   \\r\\n15,9,2012,24,82,15,0.4,44.9,0.9,7.3,0.2,1.4,0,not fire   \\r\\n16,9,2012,30,65,14,0,78.1,3.2,15.7,1.9,4.2,0.8,not fire   \\r\\n17,9,2012,31,52,14,0,87.7,6.4,24.3,6.2,7.7,5.9,fire   \\r\\n18,9,2012,32,49,11,0,89.4,9.8,33.1,6.8,11.3,7.7,fire   \\r\\n19,9,2012,29,57,14,0,89.3,12.5,41.3,7.8,14.2,9.7,fire   \\r\\n20,9,2012,28,84,18,0,83.8,13.5,49.3,4.5,16,6.3,fire\\r\\n21,9,2012,31,55,11,0,87.8,16.5,57.9,5.4,19.2,8.3,fire   \\r\\n22,9,2012,31,50,19,0.6,77.8,10.6,41.4,2.4,12.9,2.8,not fire   \\r\\n23,9,2012,32,54,11,0.5,73.7,7.9,30.4,1.2,9.6,0.7,not fire   \\r\\n24,9,2012,29,65,19,0.6,68.3,5.5,15.2,1.5,5.8,0.7,not fire   \\r\\n25,9,2012,26,81,21,5.8,48.6,3,7.7,0.4,3,0.1,not fire   \\r\\n26,9,2012,31,54,11,0,82,6,16.3,2.5,6.2,1.7,not fire   \\r\\n27,9,2012,31,66,11,0,85.7,8.3,24.9,4,9,4.1,fire   \\r\\n28,9,2012,32,47,14,0.7,77.5,7.1,8.8,1.8,6.8,0.9,not fire   \\r\\n29,9,2012,26,80,16,1.8,47.4,2.9,7.7,0.3,3,0.1,not fire   \\r\\n30,9,2012,25,78,14,1.4,45,1.9,7.5,0.2,2.4,0.1,not fire   \\r\\n1,6,2012,32,71,12,0.7,57.1,2.5,8.2,0.6,2.8,0.2,not fire   \\r\\n2,6,2012,30,73,13,4,55.7,2.7,7.8,0.6,2.9,0.2,not fire   \\r\\n3,6,2012,29,80,14,2,48.7,2.2,7.6,0.3,2.6,0.1,not fire   \\r\\n4,6,2012,30,64,14,0,79.4,5.2,15.4,2.2,5.6,1,not fire   \\r\\n5,6,2012,32,60,14,0.2,77.1,6,17.6,1.8,6.5,0.9,not fire   \\r\\n6,6,2012,35,54,11,0.1,83.7,8.4,26.3,3.1,9.3,3.1,fire   \\r\\n7,6,2012,35,44,17,0.2,85.6,9.9,28.9,5.4,10.7,6,fire   \\r\\n8,6,2012,28,51,17,1.3,71.4,7.7,7.4,1.5,7.3,0.8,not fire   \\r\\n9,6,2012,27,59,18,0.1,78.1,8.5,14.7,2.4,8.3,1.9,not fire   \\r\\n10,6,2012,30,41,15,0,89.4,13.3,22.5,8.4,13.1,10,fire   \\r\\n11,6,2012,31,42,21,0,90.6,18.2,30.5,13.4,18,16.7,fire   \\r\\n12,6,2012,27,58,17,0,88.9,21.3,37.8,8.7,21.2,12.9,fire   \\r\\n13,6,2012,30,52,15,2,72.3,11.4,7.8,1.4,10.9,0.9,not fire   \\r\\n14,6,2012,27,79,16,0.7,53.4,6.4,7.3,0.5,6.1,0.3,not fire   \\r\\n15,6,2012,28,90,15,0,66.8,7.2,14.7,1.2,7.1,0.6,not fire   \\r\\n16,6,2012,29,87,15,0.4,47.4,4.2,8,0.2,4.1,0.1,not fire   \\r\\n17,6,2012,31,69,17,4.7,62.2,3.9,8,1.1,3.8,0.4,not fire   \\r\\n18,6,2012,33,62,10,8.7,65.5,4.6,8.3,0.9,4.4,0.4,not fire   \\r\\n19,6,2012,32,67,14,4.5,64.6,4.4,8.2,1,4.2,0.4,not fire   \\r\\n20,6,2012,31,72,14,0.2,60.2,3.8,8,0.8,3.7,0.3,not fire   \\r\\n21,6,2012,32,55,14,0,86.2,8.3,18.4,5,8.2,4.9,fire   \\r\\n22,6,2012,33,46,14,1.1,78.3,8.1,8.3,1.9,7.7,1.2,not fire   \\r\\n23,6,2012,33,59,16,0.8,74.2,7,8.3,1.6,6.7,0.8,not fire   \\r\\n24,6,2012,35,68,16,0,85.3,10,17,4.9,9.9,5.3,fire   \\r\\n25,6,2012,34,70,16,0,86,12.8,25.6,5.4,12.7,6.7,fire   \\r\\n26,6,2012,36,62,16,0,87.8,16.5,34.5,7,16.4,9.5,fire   \\r\\n27,6,2012,36,55,15,0,89.1,20.9,43.3,8,20.8,12,fire   \\r\\n28,6,2012,37,37,13,0,92.5,27.2,52.4,11.7,27.1,18.4,fire   \\r\\n29,6,2012,37,36,13,0.6,86.2,17.9,36.7,4.8,17.8,7.2,fire   \\r\\n30,6,2012,34,42,15,1.7,79.7,12,8.5,2.2,11.5,2.2,not fire     \\r\\n1,7,2012,28,58,18,2.2,63.7,3.2,8.5,1.2,3.3,0.5,not fire   \\r\\n2,7,2012,33,48,16,0,87.6,7.9,17.8,6.8,7.8,6.4,fire   \\r\\n3,7,2012,34,56,17,0.1,84.7,9.7,27.3,4.7,10.3,5.2,fire   \\r\\n4,7,2012,34,58,18,0,88,13.6,36.8,8,14.1,9.9,fire   \\r\\n5,7,2012,34,45,18,0,90.5,18.7,46.4,11.3,18.7,15,fire   \\r\\n6,7,2012,35,42,15,0.3,84.7,15.5,45.1,4.3,16.7,6.3,fire   \\r\\n7,7,2012,38,43,13,0.5,85,13,35.4,4.1,13.7,5.2,fire   \\r\\n8,7,2012,35,47,18,6,80.8,9.8,9.7,3.1,9.4,3,fire   \\r\\n9,7,2012,36,43,15,1.9,82.3,9.4,9.9,3.2,9,3.1,fire   \\r\\n10,7,2012,34,51,16,3.8,77.5,8,9.5,2,7.7,1.3,not fire   \\r\\n11,7,2012,34,56,15,2.9,74.8,7.1,9.5,1.6,6.8,0.8,not fire   \\r\\n12,7,2012,36,44,13,0,90.1,12.6,19.4,8.3,12.5,9.6,fire   \\r\\n13,7,2012,39,45,13,0.6,85.2,11.3,10.4,4.2,10.9,4.7,fire   \\r\\n14,7,2012,37,37,18,0.2,88.9,12.9,14.6,9,12.5,10.4,fire   \\r\\n15,7,2012,34,45,17,0,90.5,18,24.1,10.9,17.7,14.1,fire   \\r\\n16,7,2012,31,83,17,0,84.5,19.4,33.1,4.7,19.2,7.3,fire   \\r\\n17,7,2012,32,81,17,0,84.6,21.1,42.3,4.7,20.9,7.7,fire   \\r\\n18,7,2012,33,68,15,0,86.1,23.9,51.6,5.2,23.9,9.1,fire   \\r\\n19,7,2012,34,58,16,0,88.1,27.8,61.1,7.3,27.7,13,fire   \\r\\n20,7,2012,36,50,16,0,89.9,32.7,71,9.5,32.6,17.3,fire   \\r\\n21,7,2012,36,29,18,0,93.9,39.6,80.6,18.5,39.5,30,fire   \\r\\n22,7,2012,32,48,18,0,91.5,44.2,90.1,13.2,44,25.4,fire   \\r\\n23,7,2012,31,71,17,0,87.3,46.6,99,6.9,46.5,16.3,fire   \\r\\n24,7,2012,33,63,17,1.1,72.8,20.9,56.6,1.6,21.7,2.5,not fire   \\r\\n25,7,2012,39,64,9,1.2,73.8,11.7,15.9,1.1,11.4,0.7,not fire   \\r\\n26,7,2012,35,58,10,0.2,78.3,10.8,19.7,1.6,10.7,1,not fire   \\r\\n27,7,2012,29,87,18,0,80,11.8,28.3,2.8,11.8,3.2,not fire   \\r\\n28,7,2012,33,57,16,0,87.5,15.7,37.6,6.7,15.7,9,fire   \\r\\n29,7,2012,34,59,16,0,88.1,19.5,47.2,7.4,19.5,10.9,fire   \\r\\n30,7,2012,36,56,16,0,88.9,23.8,57.1,8.2,23.8,13.2,fire   \\r\\n31,7,2012,37,55,15,0,89.3,28.3,67.2,8.3,28.3,14.5,fire   \\r\\n1,8,2012,38,52,14,0,78.3,4.4,10.5,2,4.4,0.8,not fire   \\r\\n2,8,2012,40,34,14,0,93.3,10.8,21.4,13.8,10.6,13.5,fire   \\r\\n3,8,2012,39,33,17,0,93.7,17.1,32.1,17.2,16.9,19.5,fire   \\r\\n4,8,2012,38,35,15,0,93.8,23,42.7,15.7,22.9,20.9,fire   \\r\\n5,8,2012,34,42,17,0.1,88.3,23.6,52.5,19,23.5,12.6,fire   \\r\\n6,8,2012,30,54,14,3.1,70.5,11,9.1,1.3,10.5,0.8,not fire   \\r\\n7,8,2012,34,63,13,2.9,69.7,7.2,9.8,1.2,6.9,0.6,not fire   \\r\\n8,8,2012,37,56,11,0,87.4,11.2,20.2,5.2,11,5.9,fire   \\r\\n9,8,2012,39,43,12,0,91.7,16.5,30.9,9.6,16.4,12.7,fire   \\r\\n10,8,2012,39,39,15,0.2,89.3,15.8,35.4,8.2,15.8,10.7,fire   \\r\\n11,8,2012,40,31,15,0,94.2,22.5,46.3,16.6,22.4,21.6,fire   \\r\\n12,8,2012,39,21,17,0.4,93,18.4,41.5,15.5,18.4,18.8,fire   \\r\\n13,8,2012,35,34,16,0.2,88.3,16.9,45.1,7.5,17.5,10.5,fire   \\r\\n14,8,2012,37,40,13,0,91.9,22.3,55.5,10.8,22.3,15.7,fire   \\r\\n15,8,2012,35,46,13,0.3,83.9,16.9,54.2,3.5,19,5.5,fire   \\r\\n16,8,2012,40,41,10,0.1,92,22.6,65.1,9.5,24.2,14.8,fire   \\r\\n17,8,2012,42,24,9,0,96,30.3,76.4,15.7,30.4,24,fire   \\r\\n18,8,2012,37,37,14,0,94.3,35.9,86.8,16,35.9,26.3,fire   \\r\\n19,8,2012,35,66,15,0.1,82.7,32.7,96.8,3.3,35.5,7.7,fire   \\r\\n20,8,2012,36,81,15,0,83.7,34.4,107,3.8,38.1,9,fire   \\r\\n21,8,2012,36,71,15,0,86,36.9,117.1,5.1,41.3,12.2,fire   \\r\\n22,8,2012,37,53,14,0,89.5,41.1,127.5,8,45.5,18.1,fire   \\r\\n23,8,2012,36,43,16,0,91.2,46.1,137.7,11.5,50.2,24.5,fire   \\r\\n24,8,2012,35,38,15,0,92.1,51.3,147.7,12.2,54.9,26.9,fire   \\r\\n25,8,2012,34,40,18,0,92.1,56.3,157.5,14.3,59.5,31.1,fire   \\r\\n26,8,2012,33,37,16,0,92.2,61.3,167.2,13.1,64,30.3,fire   \\r\\n27,8,2012,36,54,14,0,91,65.9,177.3,10,68,26.1,fire   \\r\\n28,8,2012,35,56,14,0.4,79.2,37,166,2.1,30.6,6.1,not fire   \\r\\n29,8,2012,35,53,17,0.5,80.2,20.7,149.2,2.7,30.6,5.9,fire   \\r\\n30,8,2012,34,49,15,0,89.2,24.8,159.1,8.1,35.7,16,fire   \\r\\n31,8,2012,30,59,19,0,89.1,27.8,168.2,9.8,39.3,19.4,fire   \\r\\n1,9,2012,29,86,16,0,37.9,0.9,8.2,0.1,1.4,0,not fire   \\r\\n2,9,2012,28,67,19,0,75.4,2.9,16.3,2,4,0.8,not fire   \\r\\n3,9,2012,28,75,16,0,82.2,4.4,24.3,3.3,6,2.5,fire   \\r\\n4,9,2012,30,66,15,0.2,73.5,4.1,26.6,1.5,6,0.7,not fire   \\r\\n5,9,2012,30,58,12,4.1,66.1,4,8.4,1,3.9,0.4,not fire   \\r\\n6,9,2012,34,71,14,6.5,64.5,3.3,9.1,1,3.5,0.4,not fire   \\r\\n7,9,2012,31,62,15,0,83.3,5.8,17.7,3.8,6.4,3.2,fire   \\r\\n8,9,2012,30,88,14,0,82.5,6.6,26.1,3,8.1,2.7,fire   \\r\\n9,9,2012,30,80,15,0,83.1,7.9,34.5,3.5,10,3.7,fire   \\r\\n10,9,2012,29,74,15,1.1,59.5,4.7,8.2,0.8,4.6,0.3,not fire   \\r\\n11,9,2012,30,73,14,0,79.2,6.5,16.6,2.1,6.6,1.2,not fire   \\r\\n12,9,2012,31,72,14,0,84.2,8.3,25.2,3.8,9.1,3.9,fire   \\r\\n13,9,2012,29,49,19,0,88.6,11.5,33.4,9.1,12.4,10.3,fire   \\r\\n14,9,2012,28,81,15,0,84.6,12.6,41.5,4.3,14.3,5.7,fire   \\r\\n15,9,2012,32,51,13,0,88.7,16,50.2,6.9,17.8,9.8,fire   \\r\\n16,9,2012,33,26,13,0,93.9,21.2,59.2,14.2,22.4,19.3,fire   \\r\\n17,9,2012,34,44,12,0,92.5,25.2,63.3,11.2,26.2,17.5,fire   \\r\\n18,9,2012,36,33,13,0.1,90.6,25.8,77.8,9,28.2,15.4,fire   \\r\\n19,9,2012,29,41,8,0.1,83.9,24.9,86,2.7,28.9,5.6,fire   \\r\\n20,9,2012,34,58,13,0.2,79.5,18.7,88,2.1,24.4,3.8,not fire   \\r\\n21,9,2012,35,34,17,0,92.2,23.6,97.3,13.8,29.4,21.6,fire   \\r\\n22,9,2012,33,64,13,0,88.9,26.1,106.3,7.1,32.4,13.7,fire   \\r\\n23,9,2012,35,56,14,0,89,29.4,115.6,7.5,36,15.2,fire   \\r\\n24,9,2012,26,49,6,2,61.3,11.9,28.1,0.6,11.9,0.4,not fire   \\r\\n25,9,2012,28,70,15,0,79.9,13.8,36.1,2.4,14.1,3,not fire   \\r\\n26,9,2012,30,65,14,0,85.4,16,44.5,4.5,16.9,6.5,fire   \\r\\n27,9,2012,28,87,15,4.4,41.1,6.5,8,0.1,6.2,0,not fire   \\r\\n28,9,2012,27,87,29,0.5,45.9,3.5,7.9,0.4,3.4,0.2,not fire   \\r\\n29,9,2012,24,54,18,0.1,79.7,4.3,15.2,1.7,5.1,0.7,not fire   \\r\\n30,9,2012,24,64,15,0.2,67.3,3.8,16.5,1.2,4.8,0.5,not fire    '}"
            ]
          },
          "metadata": {},
          "execution_count": 15
        }
      ]
    },
    {
      "cell_type": "code",
      "source": [
        "from sklearn.model_selection import train_test_split\n",
        "\n",
        "df = pd.read_csv('forest-fires-classification.csv')\n",
        "\n",
        "df.columns = df.columns.str.strip()\n",
        "df['Classes']=df['Classes'].str.strip()"
      ],
      "metadata": {
        "id": "92GXfX3nol1K"
      },
      "execution_count": null,
      "outputs": []
    },
    {
      "cell_type": "code",
      "source": [
        "X_train, X_test, y_train, y_test = train_test_split(df.drop('Classes', axis=1), df['Classes'], test_size=0.1, stratify=df['Classes'])"
      ],
      "metadata": {
        "id": "CYNkIlKqq7CD"
      },
      "execution_count": null,
      "outputs": []
    },
    {
      "cell_type": "markdown",
      "source": [
        "\n",
        "\n",
        "> **2.2.2**\n",
        "\n",
        "Using sklearn's SGDClassifier, build and train an SVM model (use hinge loss and L2-penalty) to predict whether or not a given sample is a forest fire. By using partial_fit, you can train a model with mini-batch stochastic gradient descent by passing a randomly sample of the data (say by sampling 32 or 64 data points) to partial fit each time. Every so often (maybe every 10 or 20 times you call sample), evaluate your model on both the validation set and the training set and save the accuracies in separate arrays/lists. Given you are using partial_fit, I'd recommend just splitting training into train and validation (but you are welcome to try to use cross-validation as well). Plot both the training and validation accuracies."
      ],
      "metadata": {
        "id": "QJbBdA14feSO"
      }
    },
    {
      "cell_type": "code",
      "source": [
        "from sklearn.linear_model import SGDClassifier\n",
        "from sklearn.metrics import accuracy_score\n",
        "\n",
        "clf = SGDClassifier(loss='hinge',penalty='l2')\n",
        "\n",
        "# Find the accuracies from training\n",
        "clf.fit(X_train, y_train)\n",
        "pred = clf.predict(X_test)\n",
        "accuracy = accuracy_score(y_test, pred, )\n",
        "print(f\"Accuracy: {accuracy}\")"
      ],
      "metadata": {
        "id": "i5dFgwTjfjbe",
        "colab": {
          "base_uri": "https://localhost:8080/",
          "height": 235
        },
        "outputId": "f899a69a-9137-4360-ddad-f9da051df8a5"
      },
      "execution_count": 3,
      "outputs": [
        {
          "output_type": "error",
          "ename": "NameError",
          "evalue": "ignored",
          "traceback": [
            "\u001b[0;31m---------------------------------------------------------------------------\u001b[0m",
            "\u001b[0;31mNameError\u001b[0m                                 Traceback (most recent call last)",
            "\u001b[0;32m<ipython-input-3-4d364ce4444a>\u001b[0m in \u001b[0;36m<module>\u001b[0;34m\u001b[0m\n\u001b[1;32m      5\u001b[0m \u001b[0;34m\u001b[0m\u001b[0m\n\u001b[1;32m      6\u001b[0m \u001b[0;31m# Find the accuracies from training\u001b[0m\u001b[0;34m\u001b[0m\u001b[0;34m\u001b[0m\u001b[0;34m\u001b[0m\u001b[0m\n\u001b[0;32m----> 7\u001b[0;31m \u001b[0mclf\u001b[0m\u001b[0;34m.\u001b[0m\u001b[0mfit\u001b[0m\u001b[0;34m(\u001b[0m\u001b[0mX_train\u001b[0m\u001b[0;34m,\u001b[0m \u001b[0my_train\u001b[0m\u001b[0;34m)\u001b[0m\u001b[0;34m\u001b[0m\u001b[0;34m\u001b[0m\u001b[0m\n\u001b[0m\u001b[1;32m      8\u001b[0m \u001b[0mpred\u001b[0m \u001b[0;34m=\u001b[0m \u001b[0mclf\u001b[0m\u001b[0;34m.\u001b[0m\u001b[0mpredict\u001b[0m\u001b[0;34m(\u001b[0m\u001b[0mX_test\u001b[0m\u001b[0;34m)\u001b[0m\u001b[0;34m\u001b[0m\u001b[0;34m\u001b[0m\u001b[0m\n\u001b[1;32m      9\u001b[0m \u001b[0maccuracy\u001b[0m \u001b[0;34m=\u001b[0m \u001b[0maccuracy_score\u001b[0m\u001b[0;34m(\u001b[0m\u001b[0my_test\u001b[0m\u001b[0;34m,\u001b[0m \u001b[0mpred\u001b[0m\u001b[0;34m,\u001b[0m \u001b[0;34m)\u001b[0m\u001b[0;34m\u001b[0m\u001b[0;34m\u001b[0m\u001b[0m\n",
            "\u001b[0;31mNameError\u001b[0m: name 'X_train' is not defined"
          ]
        }
      ]
    },
    {
      "cell_type": "code",
      "source": [
        "# Find the accuracies from validation\n",
        "mini_batch = 64\n",
        "for i in range(0, X_train.shape[0], mini_batch):\n",
        "  X_batch = X_train[i:i + mini_batch]\n",
        "  y_batch = y_train[i:i + mini_batch]\n",
        "  clf.partial_fit(X_batch, y_batch, classes = np.unique(y_test))\n",
        "\n",
        "pred = clf.predict(X_test)\n",
        "\n",
        "accuracy = accuracy_score(y_test, pred)\n",
        "print(f\"Accuracy: {accuracy}\")"
      ],
      "metadata": {
        "colab": {
          "base_uri": "https://localhost:8080/"
        },
        "id": "AtJjcwXj-60u",
        "outputId": "f5c7040c-a917-4492-d9d6-87e8f4e3180b"
      },
      "execution_count": null,
      "outputs": [
        {
          "output_type": "stream",
          "name": "stdout",
          "text": [
            "Accuracy: 0.96\n"
          ]
        }
      ]
    },
    {
      "cell_type": "markdown",
      "source": [
        "\n",
        "\n",
        "> **2.2.3**\n",
        "\n",
        "Experiment with a variety of values of regularization parameter (alpha parameter) between 1e-8 and 1e-1 and initial learning rate (eta0 parameter) between 1e-8 and 1e-1. (I recommend using the 'invscaling' learning rate schedule, but you are welcome to experiment with that as well). What values to you find work best (and what caused you to determine that)? (Note -- this is called \"hyperparameter tuning/optimization\")"
      ],
      "metadata": {
        "id": "NBhfOKSgfkLV"
      }
    },
    {
      "cell_type": "code",
      "source": [
        "from sklearn.model_selection import GridSearchCV\n",
        "\n",
        "# Create arrays of differnt params we could use\n",
        "param_grid = {\n",
        "    'alpha': [1e-8, 1e-6, 1e-4, 1e-2, 1e-1],\n",
        "    'eta0': [1e-8, 1e-6, 1e-4, 1e-2, 1e-1]\n",
        "}\n",
        "\n",
        "# Use gridsearchCV to find the best possible params\n",
        "grid_search = GridSearchCV(clf, param_grid, cv=5, scoring='accuracy')\n",
        "grid_search.fit(X_train, y_train)\n",
        "\n",
        "# Print the gridsearchCV for best_params and best_score to give params and accuracy\n",
        "print(\"Best Hyperparameters: \", grid_search.best_params_)\n",
        "print(\"Validation Accuracy: \", grid_search.best_score_)"
      ],
      "metadata": {
        "id": "WmkLLTbnftqi",
        "colab": {
          "base_uri": "https://localhost:8080/",
          "height": 235
        },
        "outputId": "cecbd247-851d-4cd5-869b-753cd3148885"
      },
      "execution_count": 2,
      "outputs": [
        {
          "output_type": "error",
          "ename": "NameError",
          "evalue": "ignored",
          "traceback": [
            "\u001b[0;31m---------------------------------------------------------------------------\u001b[0m",
            "\u001b[0;31mNameError\u001b[0m                                 Traceback (most recent call last)",
            "\u001b[0;32m<ipython-input-2-86d843071115>\u001b[0m in \u001b[0;36m<module>\u001b[0;34m\u001b[0m\n\u001b[1;32m      8\u001b[0m \u001b[0;34m\u001b[0m\u001b[0m\n\u001b[1;32m      9\u001b[0m \u001b[0;31m# Use gridsearchCV to find the best possible params\u001b[0m\u001b[0;34m\u001b[0m\u001b[0;34m\u001b[0m\u001b[0;34m\u001b[0m\u001b[0m\n\u001b[0;32m---> 10\u001b[0;31m \u001b[0mgrid_search\u001b[0m \u001b[0;34m=\u001b[0m \u001b[0mGridSearchCV\u001b[0m\u001b[0;34m(\u001b[0m\u001b[0mclf\u001b[0m\u001b[0;34m,\u001b[0m \u001b[0mparam_grid\u001b[0m\u001b[0;34m,\u001b[0m \u001b[0mcv\u001b[0m\u001b[0;34m=\u001b[0m\u001b[0;36m5\u001b[0m\u001b[0;34m,\u001b[0m \u001b[0mscoring\u001b[0m\u001b[0;34m=\u001b[0m\u001b[0;34m'accuracy'\u001b[0m\u001b[0;34m)\u001b[0m\u001b[0;34m\u001b[0m\u001b[0;34m\u001b[0m\u001b[0m\n\u001b[0m\u001b[1;32m     11\u001b[0m \u001b[0mgrid_search\u001b[0m\u001b[0;34m.\u001b[0m\u001b[0mfit\u001b[0m\u001b[0;34m(\u001b[0m\u001b[0mX_train\u001b[0m\u001b[0;34m,\u001b[0m \u001b[0my_train\u001b[0m\u001b[0;34m)\u001b[0m\u001b[0;34m\u001b[0m\u001b[0;34m\u001b[0m\u001b[0m\n\u001b[1;32m     12\u001b[0m \u001b[0;34m\u001b[0m\u001b[0m\n",
            "\u001b[0;31mNameError\u001b[0m: name 'clf' is not defined"
          ]
        }
      ]
    },
    {
      "cell_type": "markdown",
      "source": [
        "\n",
        "\n",
        "> **2.2.4**\n",
        "\n",
        "For whatever choices of hyperparameters you determined to be best, retrain your model on the full training set (so both train and validation combined). Then predict on the test set and compute the accuracy of the predictions. Display the results with a confusion matrix. How does it do compare to baseline accuracy for this problem?"
      ],
      "metadata": {
        "id": "TMyGmEsSfuJc"
      }
    },
    {
      "cell_type": "code",
      "source": [
        "from sklearn.metrics import confusion_matrix"
      ],
      "metadata": {
        "id": "5qU_0FFJ2rGx"
      },
      "execution_count": null,
      "outputs": []
    },
    {
      "cell_type": "code",
      "source": [
        "# Using the grid_search and GridSearchCV we use best_estimator_ to retrain model\n",
        "best_clf = grid_search.best_estimator_\n",
        "best_clf.fit(X_train, y_train)"
      ],
      "metadata": {
        "colab": {
          "base_uri": "https://localhost:8080/",
          "height": 182
        },
        "id": "8181v1pU3zql",
        "outputId": "6c06c41f-f8c2-42d7-8a9c-81de79a6f809"
      },
      "execution_count": null,
      "outputs": [
        {
          "output_type": "error",
          "ename": "NameError",
          "evalue": "ignored",
          "traceback": [
            "\u001b[0;31m---------------------------------------------------------------------------\u001b[0m",
            "\u001b[0;31mNameError\u001b[0m                                 Traceback (most recent call last)",
            "\u001b[0;32m<ipython-input-1-0df99d1e1b72>\u001b[0m in \u001b[0;36m<module>\u001b[0;34m\u001b[0m\n\u001b[0;32m----> 1\u001b[0;31m \u001b[0mbest_clf\u001b[0m \u001b[0;34m=\u001b[0m \u001b[0mgrid_search\u001b[0m\u001b[0;34m.\u001b[0m\u001b[0mbest_estimator_\u001b[0m\u001b[0;34m\u001b[0m\u001b[0;34m\u001b[0m\u001b[0m\n\u001b[0m\u001b[1;32m      2\u001b[0m \u001b[0mbest_clf\u001b[0m\u001b[0;34m.\u001b[0m\u001b[0mfit\u001b[0m\u001b[0;34m(\u001b[0m\u001b[0mX_train\u001b[0m\u001b[0;34m,\u001b[0m \u001b[0my_train\u001b[0m\u001b[0;34m)\u001b[0m\u001b[0;34m\u001b[0m\u001b[0;34m\u001b[0m\u001b[0m\n",
            "\u001b[0;31mNameError\u001b[0m: name 'grid_search' is not defined"
          ]
        }
      ]
    },
    {
      "cell_type": "code",
      "source": [
        "# Compute and Print validation accuracy\n",
        "y_pred = best_clf.predict(X_test)\n",
        "val_acc = accuracy_score(y_test, y_pred)\n",
        "print(\"Validation Accuracy (Final Model): \", val_acc)"
      ],
      "metadata": {
        "colab": {
          "base_uri": "https://localhost:8080/"
        },
        "id": "lNWm2gVc34Sr",
        "outputId": "55e8233a-e4ab-459f-c83d-a31df12372ec"
      },
      "execution_count": null,
      "outputs": [
        {
          "output_type": "stream",
          "name": "stdout",
          "text": [
            "Validation Accuracy (Final Model):  0.96\n"
          ]
        }
      ]
    },
    {
      "cell_type": "code",
      "source": [
        "# Create the confusion matrix\n",
        "conf_matrix = confusion_matrix(y_test, y_pred)\n",
        "print(\"Confusion Matrix: \\n\", conf_matrix)"
      ],
      "metadata": {
        "colab": {
          "base_uri": "https://localhost:8080/"
        },
        "id": "uqTEd4eq35kK",
        "outputId": "f383cd00-ecdf-4178-abbf-d8ebddeead9d"
      },
      "execution_count": null,
      "outputs": [
        {
          "output_type": "stream",
          "name": "stdout",
          "text": [
            "Confusion Matrix: \n",
            " [[14  0]\n",
            " [ 1 10]]\n"
          ]
        }
      ]
    },
    {
      "cell_type": "code",
      "source": [
        "# Plot confusion matrix\n",
        "import matplotlib.pyplot as plt\n",
        "import seaborn as sns\n",
        "\n",
        "conf_matrix = confusion_matrix(y_test, y_pred)\n",
        "\n",
        "sns.heatmap(conf_matrix, annot=True, fmt='d', cmap='Blues')\n",
        "\n",
        "plt.xlabel('Predicted labels')\n",
        "plt.ylabel('True labels')\n",
        "plt.title('Confusion Matrix')\n",
        "\n",
        "plt.show()"
      ],
      "metadata": {
        "colab": {
          "base_uri": "https://localhost:8080/",
          "height": 295
        },
        "id": "r3EGUUHY4D1p",
        "outputId": "600b330e-ce46-43d4-d3da-7cb6fb484dcf"
      },
      "execution_count": null,
      "outputs": [
        {
          "output_type": "display_data",
          "data": {
            "text/plain": [
              "<Figure size 432x288 with 2 Axes>"
            ],
            "image/png": "[encoded data removed]"
          },
          "metadata": {
            "needs_background": "light"
          }
        }
      ]
    },
    {
      "cell_type": "markdown",
      "source": [
        "_____________________________________________________"
      ],
      "metadata": {
        "id": "FJUbZtQfVu4X"
      }
    },
    {
      "cell_type": "markdown",
      "source": [
        "**Problem 2.3 - Incorporating New Features**"
      ],
      "metadata": {
        "id": "Iz6O-y_WLI7l"
      }
    },
    {
      "cell_type": "markdown",
      "source": [
        "_____________________________________________________"
      ],
      "metadata": {
        "id": "caGPhK2ULOMx"
      }
    },
    {
      "cell_type": "markdown",
      "source": [
        "**Problem 3**\n",
        "\n",
        "A linear SVM defines a decision boundary that is a hyper plane (meaning in 2D the decision boundary is a straight line).  We can make a linear SVM have the effect of a non-linear decision boundary by feature transformation, adding features based on the original features so that the classes can be separated by a hyperplane in that higher dimensional space.\n",
        "\n",
        "We'll look at one (artificial) example of this.  Suppose we make some data with the following (there are two classes that are clearly reasonably separable, but not by a straight line in this feature space).\n",
        "\n",
        "```\n",
        "from sklearn.datasets import make_circles\n",
        "pts, labels = make_circles(n_samples = 500, noise = 0.06)\n",
        "plt.scatter(pts[:,0], pts[:,1], c=labels)\n",
        "plt.show()\n",
        "```\n",
        " \n",
        "There are 500 points, each with two features (we'll call them $x_1$ and $x_2$ for a given sample $\\mathbf{x}$).  So, we could go all the way up to a feature space of size 5 by adding all of the higher order terms of degree two for these features (aka, $x_1^2$, $x_1 x_2$, and $x_2^2$).  Recall that the formula for a circle centered at the origin is $x^2 + y^2 = r^2$.  So, in a feature space based on just $x_1^2$ and $x_2^2$, the classes should be reasonably separable by a linear decision boundary.\n",
        "\n",
        "To show this:"
      ],
      "metadata": {
        "id": "OuSm-AwIVxjj"
      }
    },
    {
      "cell_type": "markdown",
      "source": [
        "_____________________________________________________"
      ],
      "metadata": {
        "id": "tdI0hYRBMbGq"
      }
    },
    {
      "cell_type": "markdown",
      "source": [
        "\n",
        "\n",
        "> **2.3.1**\n",
        "\n",
        "Start by creating a new 2D array containing the features  x21  and  x22  (note -- usually we might keep the lower order terms, but they aren't necessary for this example and having a 2D feature space makes it much easier to plot).\n",
        "\n"
      ],
      "metadata": {
        "id": "brHGyw2g7N8E"
      }
    },
    {
      "cell_type": "markdown",
      "source": [
        "_____________________________________________________"
      ],
      "metadata": {
        "id": "r7DyRfEMMf7z"
      }
    },
    {
      "cell_type": "code",
      "source": [
        "from sklearn.datasets import make_circles\n",
        "pts, labels = make_circles(n_samples = 500, noise = 0.06)\n",
        "plt.scatter(pts[:,0], pts[:,1], c=labels)\n",
        "plt.show()"
      ],
      "metadata": {
        "colab": {
          "base_uri": "https://localhost:8080/",
          "height": 265
        },
        "id": "MSLB4qo4MMRo",
        "outputId": "2cd16976-875a-40a2-a40e-bdcf5bac7300"
      },
      "execution_count": null,
      "outputs": [
        {
          "output_type": "display_data",
          "data": {
            "text/plain": [
              "<Figure size 432x288 with 1 Axes>"
            ],
            "image/png": "[encoded data removed]"
          },
          "metadata": {
            "needs_background": "light"
          }
        }
      ]
    },
    {
      "cell_type": "code",
      "source": [
        "import numpy as np\n",
        "\n",
        "x1 = pts[:,0]\n",
        "x2 = pts[:,1]\n",
        "x1_sq = np.power(x1, 2)\n",
        "x2_sq = np .power(x2,2)\n",
        "x1x2 = x1 * x2\n",
        "new_feats = np.column_stack((x1_sq, x2_sq))\n",
        "\n",
        "plt.scatter(new_feats[:,0], new_feats[:,1], c=labels)\n",
        "plt.show()"
      ],
      "metadata": {
        "id": "VrwhGBiq7cq_",
        "colab": {
          "base_uri": "https://localhost:8080/",
          "height": 266
        },
        "outputId": "600977ec-0130-4546-b835-d53db8241da8"
      },
      "execution_count": null,
      "outputs": [
        {
          "output_type": "display_data",
          "data": {
            "text/plain": [
              "<Figure size 432x288 with 1 Axes>"
            ],
            "image/png": "[encoded data removed]"
          },
          "metadata": {
            "needs_background": "light"
          }
        }
      ]
    },
    {
      "cell_type": "markdown",
      "source": [
        "_____________________________________________________"
      ],
      "metadata": {
        "id": "A03Ywvi5Mo-N"
      }
    },
    {
      "cell_type": "markdown",
      "source": [
        "\n",
        "\n",
        "> **2.3.2**\n",
        "\n",
        "Break your newly transformed data into training and test sets using train_test_split. Train a linear SVM (hinge loss, L2 penalty term) on this newly transformed data (the training set). It should do reasonably well with the defaults, but you are free to experiment with hyperparameter optimization if you want."
      ],
      "metadata": {
        "id": "wMbXllQc7c8D"
      }
    },
    {
      "cell_type": "markdown",
      "source": [
        "_____________________________________________________"
      ],
      "metadata": {
        "id": "XW9A9nGvMrgZ"
      }
    },
    {
      "cell_type": "code",
      "source": [
        "from sklearn.model_selection import train_test_split\n",
        "from sklearn.svm import LinearSVC\n",
        "from sklearn.metrics import accuracy_score\n",
        "\n",
        "X_train, X_test, y_train, y_test = train_test_split(new_feats, labels, test_size=0.2, random_state=42)"
      ],
      "metadata": {
        "id": "qU3dmsPk7gPZ"
      },
      "execution_count": null,
      "outputs": []
    },
    {
      "cell_type": "code",
      "source": [
        "clf = LinearSVC(loss='hinge', penalty='l2', random_state=42)\n",
        "clf.fit(X_train, y_train)"
      ],
      "metadata": {
        "colab": {
          "base_uri": "https://localhost:8080/",
          "height": 129
        },
        "id": "opWl-JasNLrX",
        "outputId": "041e7ca2-b6de-4d30-b20a-5598a6cc9c56"
      },
      "execution_count": null,
      "outputs": [
        {
          "output_type": "stream",
          "name": "stderr",
          "text": [
            "/usr/local/lib/python3.8/dist-packages/sklearn/svm/_base.py:1244: ConvergenceWarning: Liblinear failed to converge, increase the number of iterations.\n",
            "  warnings.warn(\n"
          ]
        },
        {
          "output_type": "execute_result",
          "data": {
            "text/plain": [
              "LinearSVC(loss='hinge', random_state=42)"
            ],
            "text/html": [
              "<style>#sk-container-id-2 {color: black;background-color: white;}#sk-container-id-2 pre{padding: 0;}#sk-container-id-2 div.sk-toggleable {background-color: white;}#sk-container-id-2 label.sk-toggleable__label {cursor: pointer;display: block;width: 100%;margin-bottom: 0;padding: 0.3em;box-sizing: border-box;text-align: center;}#sk-container-id-2 label.sk-toggleable__label-arrow:before {content: \"▸\";float: left;margin-right: 0.25em;color: #696969;}#sk-container-id-2 label.sk-toggleable__label-arrow:hover:before {color: black;}#sk-container-id-2 div.sk-estimator:hover label.sk-toggleable__label-arrow:before {color: black;}#sk-container-id-2 div.sk-toggleable__content {max-height: 0;max-width: 0;overflow: hidden;text-align: left;background-color: #f0f8ff;}#sk-container-id-2 div.sk-toggleable__content pre {margin: 0.2em;color: black;border-radius: 0.25em;background-color: #f0f8ff;}#sk-container-id-2 input.sk-toggleable__control:checked~div.sk-toggleable__content {max-height: 200px;max-width: 100%;overflow: auto;}#sk-container-id-2 input.sk-toggleable__control:checked~label.sk-toggleable__label-arrow:before {content: \"▾\";}#sk-container-id-2 div.sk-estimator input.sk-toggleable__control:checked~label.sk-toggleable__label {background-color: #d4ebff;}#sk-container-id-2 div.sk-label input.sk-toggleable__control:checked~label.sk-toggleable__label {background-color: #d4ebff;}#sk-container-id-2 input.sk-hidden--visually {border: 0;clip: rect(1px 1px 1px 1px);clip: rect(1px, 1px, 1px, 1px);height: 1px;margin: -1px;overflow: hidden;padding: 0;position: absolute;width: 1px;}#sk-container-id-2 div.sk-estimator {font-family: monospace;background-color: #f0f8ff;border: 1px dotted black;border-radius: 0.25em;box-sizing: border-box;margin-bottom: 0.5em;}#sk-container-id-2 div.sk-estimator:hover {background-color: #d4ebff;}#sk-container-id-2 div.sk-parallel-item::after {content: \"\";width: 100%;border-bottom: 1px solid gray;flex-grow: 1;}#sk-container-id-2 div.sk-label:hover label.sk-toggleable__label {background-color: #d4ebff;}#sk-container-id-2 div.sk-serial::before {content: \"\";position: absolute;border-left: 1px solid gray;box-sizing: border-box;top: 0;bottom: 0;left: 50%;z-index: 0;}#sk-container-id-2 div.sk-serial {display: flex;flex-direction: column;align-items: center;background-color: white;padding-right: 0.2em;padding-left: 0.2em;position: relative;}#sk-container-id-2 div.sk-item {position: relative;z-index: 1;}#sk-container-id-2 div.sk-parallel {display: flex;align-items: stretch;justify-content: center;background-color: white;position: relative;}#sk-container-id-2 div.sk-item::before, #sk-container-id-2 div.sk-parallel-item::before {content: \"\";position: absolute;border-left: 1px solid gray;box-sizing: border-box;top: 0;bottom: 0;left: 50%;z-index: -1;}#sk-container-id-2 div.sk-parallel-item {display: flex;flex-direction: column;z-index: 1;position: relative;background-color: white;}#sk-container-id-2 div.sk-parallel-item:first-child::after {align-self: flex-end;width: 50%;}#sk-container-id-2 div.sk-parallel-item:last-child::after {align-self: flex-start;width: 50%;}#sk-container-id-2 div.sk-parallel-item:only-child::after {width: 0;}#sk-container-id-2 div.sk-dashed-wrapped {border: 1px dashed gray;margin: 0 0.4em 0.5em 0.4em;box-sizing: border-box;padding-bottom: 0.4em;background-color: white;}#sk-container-id-2 div.sk-label label {font-family: monospace;font-weight: bold;display: inline-block;line-height: 1.2em;}#sk-container-id-2 div.sk-label-container {text-align: center;}#sk-container-id-2 div.sk-container {/* jupyter's `normalize.less` sets `[hidden] { display: none; }` but bootstrap.min.css set `[hidden] { display: none !important; }` so we also need the `!important` here to be able to override the default hidden behavior on the sphinx rendered scikit-learn.org. See: https://github.com/scikit-learn/scikit-learn/issues/21755 */display: inline-block !important;position: relative;}#sk-container-id-2 div.sk-text-repr-fallback {display: none;}</style><div id=\"sk-container-id-2\" class=\"sk-top-container\"><div class=\"sk-text-repr-fallback\"><pre>LinearSVC(loss=&#x27;hinge&#x27;, random_state=42)</pre><b>In a Jupyter environment, please rerun this cell to show the HTML representation or trust the notebook. <br />On GitHub, the HTML representation is unable to render, please try loading this page with nbviewer.org.</b></div><div class=\"sk-container\" hidden><div class=\"sk-item\"><div class=\"sk-estimator sk-toggleable\"><input class=\"sk-toggleable__control sk-hidden--visually\" id=\"sk-estimator-id-2\" type=\"checkbox\" checked><label for=\"sk-estimator-id-2\" class=\"sk-toggleable__label sk-toggleable__label-arrow\">LinearSVC</label><div class=\"sk-toggleable__content\"><pre>LinearSVC(loss=&#x27;hinge&#x27;, random_state=42)</pre></div></div></div></div></div>"
            ]
          },
          "metadata": {},
          "execution_count": 32
        }
      ]
    },
    {
      "cell_type": "code",
      "source": [
        "y_pred = clf.predict(X_test)\n",
        "acc = accuracy_score(y_test, y_pred)\n",
        "print(\"Accuracy on test set:\", acc)"
      ],
      "metadata": {
        "colab": {
          "base_uri": "https://localhost:8080/"
        },
        "id": "jqXq-nCINRIy",
        "outputId": "00a1c180-1340-4ad3-b715-a8e46c359661"
      },
      "execution_count": null,
      "outputs": [
        {
          "output_type": "stream",
          "name": "stdout",
          "text": [
            "Accuracy on test set: 0.95\n"
          ]
        }
      ]
    },
    {
      "cell_type": "markdown",
      "source": [
        "_____________________________________________________"
      ],
      "metadata": {
        "id": "PCaq-5c1NUN4"
      }
    },
    {
      "cell_type": "markdown",
      "source": [
        "\n",
        "\n",
        "> **2.3.3**\n",
        "\n",
        "Use sklearn's DecisionBoundaryDisplay.from_estimator to illustrate the decision boundary and the data points (this is the .scatter(...) part in their example) to visually confirm that they are reasonably separated by the linear decision boundary in the transformed space."
      ],
      "metadata": {
        "id": "lwijF2Ot7gd8"
      }
    },
    {
      "cell_type": "code",
      "source": [
        "from sklearn.inspection import DecisionBoundaryDisplay\n",
        "\n",
        "disp = DecisionBoundaryDisplay.from_estimator(clf, X_train, response_method='predict')\n",
        "\n",
        "disp.ax_.scatter(X_train[:,0], X_train[:, 1], c=y_train, edgecolor=\"k\", cmap='coolwarm')"
      ],
      "metadata": {
        "colab": {
          "base_uri": "https://localhost:8080/",
          "height": 282
        },
        "id": "gJbkicOdPNxw",
        "outputId": "7b9a2efe-8eae-44e0-9afb-adf2d4a4c792"
      },
      "execution_count": null,
      "outputs": [
        {
          "output_type": "execute_result",
          "data": {
            "text/plain": [
              "<matplotlib.collections.PathCollection at 0x7f90fe3ddb20>"
            ]
          },
          "metadata": {},
          "execution_count": 34
        },
        {
          "output_type": "display_data",
          "data": {
            "text/plain": [
              "<Figure size 432x288 with 1 Axes>"
            ],
            "image/png": "[encoded data removed]"
          },
          "metadata": {
            "needs_background": "light"
          }
        }
      ]
    },
    {
      "cell_type": "markdown",
      "source": [
        "_____________________________________________________"
      ],
      "metadata": {
        "id": "G3Tu9NS4NU0b"
      }
    },
    {
      "cell_type": "markdown",
      "source": [
        "\n",
        "\n",
        "> **2.3.4**\n",
        "\n",
        "Compute the accuracy on the test set."
      ],
      "metadata": {
        "id": "OwzkngPW7t2R"
      }
    },
    {
      "cell_type": "markdown",
      "source": [
        "_____________________________________________________"
      ],
      "metadata": {
        "id": "o5eNA_DB3xcr"
      }
    },
    {
      "cell_type": "code",
      "source": [
        "accuracy = clf.score(X_test, y_test)\n",
        "print(accuracy)"
      ],
      "metadata": {
        "id": "lXctrX9y8Goe",
        "colab": {
          "base_uri": "https://localhost:8080/"
        },
        "outputId": "20ac0021-f70d-4b73-d98b-a74e11f355a9"
      },
      "execution_count": null,
      "outputs": [
        {
          "output_type": "stream",
          "name": "stdout",
          "text": [
            "0.95\n"
          ]
        }
      ]
    },
    {
      "cell_type": "code",
      "source": [
        "from sklearn.metrics import f1_score\n",
        "\n",
        "y_pred = clf.predict(X_test)\n",
        "f1 = f1_score(y_test, y_pred)\n",
        "print(f1)"
      ],
      "metadata": {
        "colab": {
          "base_uri": "https://localhost:8080/"
        },
        "id": "RQ7DPV3d4koo",
        "outputId": "526e4e2f-1e65-40ba-b0d3-7333e805f926"
      },
      "execution_count": null,
      "outputs": [
        {
          "output_type": "stream",
          "name": "stdout",
          "text": [
            "0.946236559139785\n"
          ]
        }
      ]
    },
    {
      "cell_type": "markdown",
      "source": [
        "Note -- the process we went through works, but it doesn't scale well. Instead, there's a well known idea called the \"kernel trick\" which is more efficient but allows us to accomplish the same thing without explicitly adding all of those features."
      ],
      "metadata": {
        "id": "WeyfxjYv8G4k"
      }
    }
  ],
  "metadata": {
    "colab": {
      "provenance": [],
      "include_colab_link": true
    },
    "kernelspec": {
      "display_name": "Python 3 (ipykernel)",
      "language": "python",
      "name": "python3"
    },
    "language_info": {
      "codemirror_mode": {
        "name": "ipython",
        "version": 3
      },
      "file_extension": ".py",
      "mimetype": "text/x-python",
      "name": "python",
      "nbconvert_exporter": "python",
      "pygments_lexer": "ipython3",
      "version": "3.9.13"
    },
    "vscode": {
      "interpreter": {
        "hash": "ac2eaa0ea0ebeafcc7822e65e46aa9d4f966f30b695406963e145ea4a91cd4fc"
      }
    }
  },
  "nbformat": 4,
  "nbformat_minor": 0
}